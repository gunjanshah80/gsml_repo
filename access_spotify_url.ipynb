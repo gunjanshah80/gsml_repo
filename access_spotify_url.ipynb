{
  "cells": [
    {
      "cell_type": "markdown",
      "metadata": {
        "id": "view-in-github",
        "colab_type": "text"
      },
      "source": [
        "<a href=\"https://colab.research.google.com/github/gunjanshah80/gsml_repo/blob/main/access_spotify_url.ipynb\" target=\"_parent\"><img src=\"https://colab.research.google.com/assets/colab-badge.svg\" alt=\"Open In Colab\"/></a>"
      ]
    },
    {
      "cell_type": "code",
      "execution_count": 32,
      "metadata": {
        "id": "pPiwTchDEaJS"
      },
      "outputs": [],
      "source": [
        "import requests"
      ]
    },
    {
      "cell_type": "code",
      "execution_count": 34,
      "metadata": {
        "id": "x33CuZFkY0X-"
      },
      "outputs": [],
      "source": [
        "url = 'https://accounts.spotify.com/api/token'\n",
        "\n",
        "client_id = '2610446ebcdd401fb88dc55fea3dc16f'\n",
        "client_secret = 'e54c8f132b9942d58129a9f38acd3020'\n",
        "\n",
        "headers = {\"Content-Type\": \"application/x-www-form-urlencoded\"}\n",
        "client_access_details = \"grant_type=client_credentials&client_id={id}&client_secret={secret}\".format(id=client_id, secret=client_secret)\n",
        "\n",
        "data = {\"data\": client_access_details}"
      ]
    },
    {
      "cell_type": "code",
      "execution_count": 35,
      "metadata": {
        "id": "WpisGEanEcuX"
      },
      "outputs": [],
      "source": [
        "response = requests.post(url, {\n",
        "    'grant_type': 'client_credentials',\n",
        "    'client_id': client_id,\n",
        "    'client_secret': client_secret,\n",
        "})\n"
      ]
    },
    {
      "cell_type": "code",
      "execution_count": 37,
      "metadata": {
        "colab": {
          "base_uri": "https://localhost:8080/"
        },
        "id": "xAnYg6iGEfxF",
        "outputId": "660d6921-c00c-4ba0-94f1-b2d2091dfbbe"
      },
      "outputs": [
        {
          "output_type": "stream",
          "name": "stdout",
          "text": [
            "{'access_token': 'BQBcaNONeAXBrqXb1s47vVDvpB5slZcM6XAmvqzSsuyLo_sLJs8fuUKXBlPJZ6XW4kxtnP8T0QgDF5CAjr7PnDXWaSqLYUd5PJNHIaQfBeikNTxqGswy', 'token_type': 'Bearer', 'expires_in': 3600}\n"
          ]
        }
      ],
      "source": [
        "print(response.json())"
      ]
    }
  ],
  "metadata": {
    "colab": {
      "provenance": [],
      "authorship_tag": "ABX9TyPF1UFVN/FNRlRcdqT+oZ3m",
      "include_colab_link": true
    },
    "kernelspec": {
      "display_name": "Python 3",
      "name": "python3"
    },
    "language_info": {
      "name": "python"
    }
  },
  "nbformat": 4,
  "nbformat_minor": 0
}
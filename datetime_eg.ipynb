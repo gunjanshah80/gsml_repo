{
  "nbformat": 4,
  "nbformat_minor": 0,
  "metadata": {
    "colab": {
      "provenance": [],
      "authorship_tag": "ABX9TyPm7oQGIngikivxftYWMgAj",
      "include_colab_link": true
    },
    "kernelspec": {
      "name": "python3",
      "display_name": "Python 3"
    },
    "language_info": {
      "name": "python"
    }
  },
  "cells": [
    {
      "cell_type": "markdown",
      "metadata": {
        "id": "view-in-github",
        "colab_type": "text"
      },
      "source": [
        "<a href=\"https://colab.research.google.com/github/gunjanshah80/gsml_repo/blob/main/datetime_eg.ipynb\" target=\"_parent\"><img src=\"https://colab.research.google.com/assets/colab-badge.svg\" alt=\"Open In Colab\"/></a>"
      ]
    },
    {
      "cell_type": "code",
      "execution_count": 7,
      "metadata": {
        "id": "jbisoxtLCY9s"
      },
      "outputs": [],
      "source": [
        "import datetime\n",
        "from datetime import datetime, timedelta, timezone"
      ]
    },
    {
      "cell_type": "code",
      "source": [
        "def get_start_end_dates(start_date_in, end_date_in, run_mode):\n",
        "    # 1 - Get and validate start_date (auto set if not provided)\n",
        "    # 2 - Get and validate end_date (auto set if not provided)\n",
        "    # 3 - Validate that start_date is <= end_date\n",
        "\n",
        "    if start_date_in is None:\n",
        "        raise Exception(f\"start_date [{start_date_in}] must be populated\")\n",
        "\n",
        "    if end_date_in is None:\n",
        "        raise Exception(f\"end_date [{end_date_in}] must be populated\")\n",
        "\n",
        "    start_date_out = get_date(date_in=start_date_in, run_mode=run_mode)\n",
        "    end_date_out = get_date(date_in=end_date_in, run_mode=run_mode)\n",
        "    assert start_date_out <= end_date_out, f\"start_date [{start_date_out}] must be less \" \\\n",
        "                                           f\"than or equal to end_date[{end_date_out}] \"\n",
        "\n",
        "    date_filter = date_range(start_date_out, end_date_out)\n",
        "\n",
        "    return date_filter"
      ],
      "metadata": {
        "id": "cktdxkD2CbHJ"
      },
      "execution_count": 2,
      "outputs": []
    },
    {
      "cell_type": "code",
      "source": [
        "def get_date(date_in, run_mode):\n",
        "\n",
        "    if date_in == 'YYYYMMDD':\n",
        "\n",
        "        if run_mode == 'AUTO':\n",
        "            delta = timedelta(hours=-1)\n",
        "        elif run_mode == 'PREVIOUS_DAY':\n",
        "            delta = timedelta(days=-1)\n",
        "\n",
        "        else:\n",
        "            delta = timedelta(hours=0)\n",
        "\n",
        "        # Generate date for current day\n",
        "        date_out = (datetime.now(timezone.utc) + delta).strftime('%Y%m%d')\n",
        "    else:\n",
        "        # Conversion will fail and raise error if invalid date is provided\n",
        "        date_out = date_in\n",
        "\n",
        "    return date_out"
      ],
      "metadata": {
        "id": "d426v4ImCq9B"
      },
      "execution_count": 3,
      "outputs": []
    },
    {
      "cell_type": "code",
      "source": [
        "def date_range(start, end):\n",
        "    sdate = datetime.strptime(start, '%Y%m%d').date()\n",
        "    edate = datetime.strptime(end, '%Y%m%d').date()\n",
        "    assert start <= end, f\"start_date [{start}] must be less than or equal to end_date[{end}]\"\n",
        "    delta = edate - sdate  # as timedelta\n",
        "    days = []\n",
        "    for i in range(delta.days + 1):\n",
        "        day = sdate + timedelta(days=i)\n",
        "        days.append(day.strftime('%Y%m%d'))\n",
        "    return days"
      ],
      "metadata": {
        "id": "DRRyzQ1lCuAF"
      },
      "execution_count": 4,
      "outputs": []
    },
    {
      "cell_type": "code",
      "source": [
        "dt = get_date(date_in='YYYYMMDD', run_mode='PREVIOUS_DAY')\n",
        "print(dt)\n",
        "dt = get_start_end_dates('YYYYMMDD', 'YYYYMMDD', 'PREVIOUS_DAY')\n",
        "print(dt)\n",
        "dt = get_start_end_dates('20210701', '20210715', 'PREVIOUS_DAY')\n",
        "print(dt)\n",
        "for date in dt:\n",
        "  print(date)"
      ],
      "metadata": {
        "colab": {
          "base_uri": "https://localhost:8080/"
        },
        "id": "WHUy2_plCvJK",
        "outputId": "a92d74ad-8464-4398-e0ed-abd18c050ec7"
      },
      "execution_count": 15,
      "outputs": [
        {
          "output_type": "stream",
          "name": "stdout",
          "text": [
            "20230411\n",
            "['20230411']\n",
            "['20210701', '20210702', '20210703', '20210704', '20210705', '20210706', '20210707', '20210708', '20210709', '20210710', '20210711', '20210712', '20210713', '20210714', '20210715']\n",
            "20210701\n",
            "20210702\n",
            "20210703\n",
            "20210704\n",
            "20210705\n",
            "20210706\n",
            "20210707\n",
            "20210708\n",
            "20210709\n",
            "20210710\n",
            "20210711\n",
            "20210712\n",
            "20210713\n",
            "20210714\n",
            "20210715\n"
          ]
        }
      ]
    }
  ]
}